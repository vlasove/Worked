{
 "cells": [
  {
   "cell_type": "code",
   "execution_count": 9,
   "metadata": {},
   "outputs": [],
   "source": [
    "import xlsxwriter\n",
    "\n",
    "\n",
    "# Create an new Excel file and add a worksheet.\n",
    "workbook = xlsxwriter.Workbook('merge_rich_string.xlsx')\n",
    "worksheet = workbook.add_worksheet()\n",
    "\n",
    "# Set up some formats to use.\n",
    "red = workbook.add_format({'color': 'red'})\n",
    "blue = workbook.add_format({'color': 'blue'})\n",
    "cell_format = workbook.add_format({'align': 'center',\n",
    "                                   'valign': 'vcenter',\n",
    "                                   'border': 1})\n",
    "\n",
    "# We can only write simple types to merged ranges so we write a blank string.\n",
    "worksheet.merge_range('A1:G3', \"\", cell_format)\n",
    "\n",
    "# We then overwrite the first merged cell with a rich string. Note that we\n",
    "# must also pass the cell format used in the merged cells format at the end.\n",
    "worksheet.write_rich_string('A1',\n",
    "                            'This is ',\n",
    "                            red, 'red',\n",
    "                            ' and this is ',\n",
    "                            blue, 'blue',\n",
    "                            cell_format)\n",
    "\n",
    "workbook.close()"
   ]
  },
  {
   "cell_type": "code",
   "execution_count": null,
   "metadata": {},
   "outputs": [],
   "source": []
  }
 ],
 "metadata": {
  "kernelspec": {
   "display_name": "Python 3",
   "language": "python",
   "name": "python3"
  },
  "language_info": {
   "codemirror_mode": {
    "name": "ipython",
    "version": 3
   },
   "file_extension": ".py",
   "mimetype": "text/x-python",
   "name": "python",
   "nbconvert_exporter": "python",
   "pygments_lexer": "ipython3",
   "version": "3.6.6"
  }
 },
 "nbformat": 4,
 "nbformat_minor": 2
}
