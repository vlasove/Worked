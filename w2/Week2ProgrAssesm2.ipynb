{
 "cells": [
  {
   "cell_type": "code",
   "execution_count": 11,
   "metadata": {},
   "outputs": [],
   "source": [
    "from sklearn.datasets import load_boston\n",
    "from sklearn.preprocessing import scale\n",
    "import pandas as pd\n",
    "from sklearn.neighbors import KNeighborsRegressor\n",
    "import numpy as np\n",
    "from sklearn.model_selection import KFold\n",
    "from sklearn.model_selection import cross_val_score\n",
    "from tqdm import tqdm\n",
    "import matplotlib.pyplot as plt\n",
    "from sklearn.model_selection import GridSearchCV\n"
   ]
  },
  {
   "cell_type": "code",
   "execution_count": 2,
   "metadata": {},
   "outputs": [],
   "source": [
    "boston = load_boston()\n"
   ]
  },
  {
   "cell_type": "code",
   "execution_count": 10,
   "metadata": {},
   "outputs": [],
   "source": [
    "X = boston.data\n",
    "X_scale = scale(X)\n",
    "y = boston.target"
   ]
  },
  {
   "cell_type": "code",
   "execution_count": 14,
   "metadata": {},
   "outputs": [],
   "source": [
    "kf = KFold(n_splits=5, random_state= 42, shuffle= True)"
   ]
  },
  {
   "cell_type": "code",
   "execution_count": null,
   "metadata": {},
   "outputs": [],
   "source": []
  },
  {
   "cell_type": "code",
   "execution_count": 16,
   "metadata": {},
   "outputs": [
    {
     "name": "stderr",
     "output_type": "stream",
     "text": [
      "100%|████████████████████████████████████████| 200/200 [00:24<00:00,  8.72it/s]\n"
     ]
    },
    {
     "name": "stdout",
     "output_type": "stream",
     "text": [
      "The optimal number of neighbors is 1\n"
     ]
    },
    {
     "data": {
      "image/png": "[encoded data removed]",
      "text/plain": [
       "<Figure size 432x288 with 1 Axes>"
      ]
     },
     "metadata": {
      "needs_background": "light"
     },
     "output_type": "display_data"
    }
   ],
   "source": [
    "list_neighbors = []\n",
    "list_cv_score = []\n",
    "cross_dict = {}\n",
    "p_list = np.linspace(1,10,200)\n",
    "for i in tqdm(p_list):\n",
    "    a = cross_val_score(KNeighborsRegressor(n_neighbors=5, weights= 'distance', p = i ),X_scale,y, cv = kf, scoring= 'neg_mean_squared_error').mean()\n",
    "    list_cv_score.append(a)\n",
    "    list_neighbors.append(i)\n",
    "    cross_dict[a] = i\n",
    "    \n",
    "list_neighbors = np.array(list_neighbors)\n",
    "list_cv_score = np.array(list_cv_score)\n",
    "\n",
    "MSE = [1 - x for x in list_cv_score]\n",
    "\n",
    "# determining best k\n",
    "optimal_p = p_list[MSE.index(min(MSE))]\n",
    "print (\"The optimal number of neighbors is %d\" % optimal_p)\n",
    "\n",
    "# plot misclassification error vs k\n",
    "plt.plot(p_list, MSE)\n",
    "plt.xlabel('Number of Neighbors K')\n",
    "plt.ylabel('Misclassification Error')\n",
    "plt.show()"
   ]
  },
  {
   "cell_type": "code",
   "execution_count": 17,
   "metadata": {},
   "outputs": [
    {
     "data": {
      "text/plain": [
       "1.0"
      ]
     },
     "execution_count": 17,
     "metadata": {},
     "output_type": "execute_result"
    }
   ],
   "source": [
    "cross_dict[max(list_cv_score)]"
   ]
  },
  {
   "cell_type": "code",
   "execution_count": 18,
   "metadata": {},
   "outputs": [
    {
     "data": {
      "text/plain": [
       "-16.030646734221644"
      ]
     },
     "execution_count": 18,
     "metadata": {},
     "output_type": "execute_result"
    }
   ],
   "source": [
    "max(list_cv_score)"
   ]
  },
  {
   "cell_type": "code",
   "execution_count": 19,
   "metadata": {},
   "outputs": [
    {
     "data": {
      "text/plain": [
       "array([-16.03064673, -16.40783871, -16.37069695, -16.44571631,\n",
       "       -16.47505777, -16.52643233, -16.63670935, -16.82422425,\n",
       "       -16.87420906, -17.12489882, -17.14523188, -17.01936008,\n",
       "       -17.09913174, -16.80132664, -16.9807452 , -17.0334589 ,\n",
       "       -17.1716419 , -17.18167917, -17.20826374, -17.3236802 ,\n",
       "       -17.41511889, -17.38566232, -17.3260386 , -17.33696698,\n",
       "       -17.38264865, -17.65669751, -17.5698945 , -17.31950328,\n",
       "       -17.5047325 , -17.55449418, -17.56603528, -17.59603265,\n",
       "       -17.5990972 , -17.28225656, -17.32636453, -17.48516457,\n",
       "       -17.46023663, -17.47743619, -17.54616769, -17.52805372,\n",
       "       -17.61469633, -17.60847149, -17.65008399, -17.88913089,\n",
       "       -17.88563348, -18.10186246, -18.14915478, -18.22220321,\n",
       "       -18.27951784, -18.28441038, -18.28084248, -18.21471509,\n",
       "       -18.51518528, -18.47144684, -18.57545141, -18.58686503,\n",
       "       -18.85009529, -18.88766688, -18.93167328, -18.93731593,\n",
       "       -18.91046717, -18.91321216, -19.0146467 , -19.06142086,\n",
       "       -19.04979117, -19.07818772, -19.16528653, -19.17375477,\n",
       "       -19.13084223, -19.09926794, -19.12475773, -19.07301531,\n",
       "       -19.28988817, -19.29983   , -19.29931581, -19.30652577,\n",
       "       -19.21169477, -19.19762395, -19.24906365, -19.40760901,\n",
       "       -19.46858855, -19.48038036, -19.57744356, -19.67292608,\n",
       "       -19.68423857, -19.7314194 , -19.7333691 , -19.73869633,\n",
       "       -19.76998845, -19.67033806, -19.67431394, -19.63288989,\n",
       "       -19.65969578, -19.64910653, -19.67714889, -19.6496809 ,\n",
       "       -19.65427549, -19.68220553, -19.6853188 , -19.72242337,\n",
       "       -19.88489789, -19.86308222, -19.87893944, -19.90625128,\n",
       "       -19.91032039, -19.9024381 , -20.1125371 , -20.29319148,\n",
       "       -20.29715786, -20.1750034 , -20.12162187, -20.12499079,\n",
       "       -20.12553694, -20.07629978, -20.05124803, -20.04084958,\n",
       "       -20.04846359, -20.05417983, -20.54208521, -20.5559242 ,\n",
       "       -20.55874024, -20.60723905, -20.58733688, -20.59802814,\n",
       "       -20.58396734, -20.58016333, -20.58857501, -20.60389056,\n",
       "       -20.60490741, -20.60255496, -20.60520436, -20.60752697,\n",
       "       -20.65238365, -20.67160267, -20.68758071, -20.69126543,\n",
       "       -20.67796235, -20.68010974, -20.87925813, -20.97868985,\n",
       "       -20.99371577, -20.9955911 , -21.00948882, -21.01130038,\n",
       "       -21.01308193, -21.0148341 , -21.01741764, -21.01086496,\n",
       "       -21.02970321, -21.02242242, -21.02402905, -21.05785349,\n",
       "       -21.06564231, -21.06698491, -21.06848244, -21.06818328,\n",
       "       -21.07103473, -21.02558771, -20.95110251, -20.99615278,\n",
       "       -20.89273182, -20.8940669 , -21.00772466, -21.0090253 ,\n",
       "       -21.01216221, -21.01710511, -21.01498302, -21.01620803,\n",
       "       -21.0123964 , -21.01303445, -21.016254  , -21.00610734,\n",
       "       -21.00578568, -21.00720624, -21.00414692, -21.00717089,\n",
       "       -21.00826276, -21.01810167, -21.01916223, -21.08336087,\n",
       "       -21.0774658 , -21.07851708, -21.07903717, -21.08005912,\n",
       "       -21.10497822, -21.10584269, -21.11056761, -21.1115252 ,\n",
       "       -21.11246947, -21.06615486, -21.06651177, -21.0748143 ,\n",
       "       -21.07572108, -21.07661547, -21.07749768, -21.08126399,\n",
       "       -21.08212737, -21.08297912, -21.08381944, -21.08970331])"
      ]
     },
     "execution_count": 19,
     "metadata": {},
     "output_type": "execute_result"
    }
   ],
   "source": [
    "list_cv_score"
   ]
  },
  {
   "cell_type": "code",
   "execution_count": null,
   "metadata": {},
   "outputs": [],
   "source": []
  }
 ],
 "metadata": {
  "kernelspec": {
   "display_name": "Python 3",
   "language": "python",
   "name": "python3"
  },
  "language_info": {
   "codemirror_mode": {
    "name": "ipython",
    "version": 3
   },
   "file_extension": ".py",
   "mimetype": "text/x-python",
   "name": "python",
   "nbconvert_exporter": "python",
   "pygments_lexer": "ipython3",
   "version": "3.7.1"
  }
 },
 "nbformat": 4,
 "nbformat_minor": 2
}
