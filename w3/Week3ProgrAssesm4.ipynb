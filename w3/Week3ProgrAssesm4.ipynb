{
 "cells": [
  {
   "cell_type": "code",
   "execution_count": 48,
   "metadata": {},
   "outputs": [],
   "source": [
    "import pandas as pd\n",
    "import numpy as np\n",
    "\n",
    "from sklearn.metrics import accuracy_score, precision_score, recall_score,f1_score, roc_auc_score, roc_curve, precision_recall_curve\n",
    "import matplotlib.pyplot as plt\n",
    "from pylab import rcParams\n",
    "rcParams['figure.figsize'] = 12, 8"
   ]
  },
  {
   "cell_type": "code",
   "execution_count": 2,
   "metadata": {},
   "outputs": [
    {
     "data": {
      "text/html": [
       "<div>\n",
       "<style scoped>\n",
       "    .dataframe tbody tr th:only-of-type {\n",
       "        vertical-align: middle;\n",
       "    }\n",
       "\n",
       "    .dataframe tbody tr th {\n",
       "        vertical-align: top;\n",
       "    }\n",
       "\n",
       "    .dataframe thead th {\n",
       "        text-align: right;\n",
       "    }\n",
       "</style>\n",
       "<table border=\"1\" class=\"dataframe\">\n",
       "  <thead>\n",
       "    <tr style=\"text-align: right;\">\n",
       "      <th></th>\n",
       "      <th>true</th>\n",
       "      <th>pred</th>\n",
       "    </tr>\n",
       "  </thead>\n",
       "  <tbody>\n",
       "    <tr>\n",
       "      <th>0</th>\n",
       "      <td>1</td>\n",
       "      <td>0</td>\n",
       "    </tr>\n",
       "    <tr>\n",
       "      <th>1</th>\n",
       "      <td>1</td>\n",
       "      <td>1</td>\n",
       "    </tr>\n",
       "    <tr>\n",
       "      <th>2</th>\n",
       "      <td>1</td>\n",
       "      <td>1</td>\n",
       "    </tr>\n",
       "    <tr>\n",
       "      <th>3</th>\n",
       "      <td>0</td>\n",
       "      <td>0</td>\n",
       "    </tr>\n",
       "    <tr>\n",
       "      <th>4</th>\n",
       "      <td>1</td>\n",
       "      <td>1</td>\n",
       "    </tr>\n",
       "  </tbody>\n",
       "</table>\n",
       "</div>"
      ],
      "text/plain": [
       "   true  pred\n",
       "0     1     0\n",
       "1     1     1\n",
       "2     1     1\n",
       "3     0     0\n",
       "4     1     1"
      ]
     },
     "execution_count": 2,
     "metadata": {},
     "output_type": "execute_result"
    }
   ],
   "source": [
    "df = pd.read_csv('classification.csv')\n",
    "df.head()"
   ]
  },
  {
   "cell_type": "code",
   "execution_count": 9,
   "metadata": {},
   "outputs": [
    {
     "data": {
      "text/plain": [
       "43"
      ]
     },
     "execution_count": 9,
     "metadata": {},
     "output_type": "execute_result"
    }
   ],
   "source": [
    "#TruePositive\n",
    "TP_frame = df[(df['true'] == 1) & (df['pred'] == 1)]\n",
    "TP =len(TP_frame)\n",
    "TP"
   ]
  },
  {
   "cell_type": "code",
   "execution_count": 10,
   "metadata": {},
   "outputs": [
    {
     "data": {
      "text/plain": [
       "64"
      ]
     },
     "execution_count": 10,
     "metadata": {},
     "output_type": "execute_result"
    }
   ],
   "source": [
    "#TrueNegative\n",
    "TN_frame = df[(df['true'] == 0) & (df['pred'] == 0)]\n",
    "TN =len(TN_frame)\n",
    "TN"
   ]
  },
  {
   "cell_type": "code",
   "execution_count": 11,
   "metadata": {},
   "outputs": [
    {
     "data": {
      "text/plain": [
       "34"
      ]
     },
     "execution_count": 11,
     "metadata": {},
     "output_type": "execute_result"
    }
   ],
   "source": [
    "#FalsePositive\n",
    "FP_frame = df[(df['true'] == 0) & (df['pred'] == 1)]\n",
    "FP =len(FP_frame)\n",
    "FP"
   ]
  },
  {
   "cell_type": "code",
   "execution_count": 12,
   "metadata": {},
   "outputs": [
    {
     "data": {
      "text/plain": [
       "59"
      ]
     },
     "execution_count": 12,
     "metadata": {},
     "output_type": "execute_result"
    }
   ],
   "source": [
    "#FalseNegative\n",
    "FN_frame = df[(df['true'] == 1) & (df['pred'] == 0)]\n",
    "FN =len(FN_frame)\n",
    "FN"
   ]
  },
  {
   "cell_type": "code",
   "execution_count": 13,
   "metadata": {},
   "outputs": [
    {
     "name": "stdout",
     "output_type": "stream",
     "text": [
      "43 34 59 64\n"
     ]
    }
   ],
   "source": [
    "print(TP,FP,FN,TN)"
   ]
  },
  {
   "cell_type": "code",
   "execution_count": 17,
   "metadata": {},
   "outputs": [
    {
     "name": "stdout",
     "output_type": "stream",
     "text": [
      "0.535 0.535\n"
     ]
    }
   ],
   "source": [
    "#Accuracy\n",
    "Hand_Acc = (TP+TN)/(TP+FP+TN+FN)\n",
    "Sk_Acc = accuracy_score(df['true'], df['pred'])\n",
    "\n",
    "print(Hand_Acc, Sk_Acc)"
   ]
  },
  {
   "cell_type": "code",
   "execution_count": 18,
   "metadata": {},
   "outputs": [
    {
     "name": "stdout",
     "output_type": "stream",
     "text": [
      "0.5584415584415584 0.5584415584415584\n"
     ]
    }
   ],
   "source": [
    "#Precision\n",
    "Hand_Prec = TP/(TP+FP)\n",
    "Sk_Prec = precision_score(df['true'], df['pred'])\n",
    "\n",
    "print(Hand_Prec, Sk_Prec)"
   ]
  },
  {
   "cell_type": "code",
   "execution_count": 19,
   "metadata": {},
   "outputs": [
    {
     "name": "stdout",
     "output_type": "stream",
     "text": [
      "0.4215686274509804 0.4215686274509804\n"
     ]
    }
   ],
   "source": [
    "#Recall\n",
    "Hand_Recall = TP/(TP+FN)\n",
    "Sk_Recall = recall_score(df['true'], df['pred'])\n",
    "\n",
    "print(Hand_Recall, Sk_Recall)"
   ]
  },
  {
   "cell_type": "code",
   "execution_count": 20,
   "metadata": {},
   "outputs": [
    {
     "name": "stdout",
     "output_type": "stream",
     "text": [
      "0.4715588808035257 0.48044692737430167\n"
     ]
    }
   ],
   "source": [
    "#F-metrics\n",
    "Hand_F = 2*Hand_Precision*Hand_Recall/(Hand_Precision+ Hand_Recall)\n",
    "Sk_F = f1_score(df['true'], df['pred'])\n",
    "\n",
    "print(Hand_F, Sk_F)"
   ]
  },
  {
   "cell_type": "code",
   "execution_count": 21,
   "metadata": {},
   "outputs": [
    {
     "name": "stdout",
     "output_type": "stream",
     "text": [
      "0.535 0.5584415584415584 0.4215686274509804 0.48044692737430167\n"
     ]
    }
   ],
   "source": [
    "print(Sk_Acc, Sk_Prec, Sk_Recall, Sk_F)"
   ]
  },
  {
   "cell_type": "code",
   "execution_count": 23,
   "metadata": {},
   "outputs": [
    {
     "name": "stdout",
     "output_type": "stream",
     "text": [
      "0.54 0.56 0.42 0.48\n"
     ]
    }
   ],
   "source": [
    "print(round(Sk_Acc,2), round(Sk_Prec,2), round(Sk_Recall,2), round(Sk_F,2))"
   ]
  },
  {
   "cell_type": "code",
   "execution_count": 27,
   "metadata": {},
   "outputs": [
    {
     "data": {
      "text/html": [
       "<div>\n",
       "<style scoped>\n",
       "    .dataframe tbody tr th:only-of-type {\n",
       "        vertical-align: middle;\n",
       "    }\n",
       "\n",
       "    .dataframe tbody tr th {\n",
       "        vertical-align: top;\n",
       "    }\n",
       "\n",
       "    .dataframe thead th {\n",
       "        text-align: right;\n",
       "    }\n",
       "</style>\n",
       "<table border=\"1\" class=\"dataframe\">\n",
       "  <thead>\n",
       "    <tr style=\"text-align: right;\">\n",
       "      <th></th>\n",
       "      <th>true</th>\n",
       "      <th>score_logreg</th>\n",
       "      <th>score_svm</th>\n",
       "      <th>score_knn</th>\n",
       "      <th>score_tree</th>\n",
       "    </tr>\n",
       "  </thead>\n",
       "  <tbody>\n",
       "    <tr>\n",
       "      <th>0</th>\n",
       "      <td>0</td>\n",
       "      <td>0.683832</td>\n",
       "      <td>0.145976</td>\n",
       "      <td>0.787063</td>\n",
       "      <td>0.500000</td>\n",
       "    </tr>\n",
       "    <tr>\n",
       "      <th>1</th>\n",
       "      <td>1</td>\n",
       "      <td>0.801966</td>\n",
       "      <td>0.239511</td>\n",
       "      <td>1.000000</td>\n",
       "      <td>0.833333</td>\n",
       "    </tr>\n",
       "    <tr>\n",
       "      <th>2</th>\n",
       "      <td>0</td>\n",
       "      <td>0.382315</td>\n",
       "      <td>-0.245701</td>\n",
       "      <td>0.000000</td>\n",
       "      <td>0.000000</td>\n",
       "    </tr>\n",
       "    <tr>\n",
       "      <th>3</th>\n",
       "      <td>1</td>\n",
       "      <td>0.506797</td>\n",
       "      <td>-0.137058</td>\n",
       "      <td>0.000000</td>\n",
       "      <td>0.105263</td>\n",
       "    </tr>\n",
       "    <tr>\n",
       "      <th>4</th>\n",
       "      <td>1</td>\n",
       "      <td>0.488781</td>\n",
       "      <td>-0.154148</td>\n",
       "      <td>0.000000</td>\n",
       "      <td>0.105263</td>\n",
       "    </tr>\n",
       "  </tbody>\n",
       "</table>\n",
       "</div>"
      ],
      "text/plain": [
       "   true  score_logreg  score_svm  score_knn  score_tree\n",
       "0     0      0.683832   0.145976   0.787063    0.500000\n",
       "1     1      0.801966   0.239511   1.000000    0.833333\n",
       "2     0      0.382315  -0.245701   0.000000    0.000000\n",
       "3     1      0.506797  -0.137058   0.000000    0.105263\n",
       "4     1      0.488781  -0.154148   0.000000    0.105263"
      ]
     },
     "execution_count": 27,
     "metadata": {},
     "output_type": "execute_result"
    }
   ],
   "source": [
    "data = pd.read_csv('scores.csv')\n",
    "data.head()"
   ]
  },
  {
   "cell_type": "code",
   "execution_count": 46,
   "metadata": {},
   "outputs": [
    {
     "name": "stdout",
     "output_type": "stream",
     "text": [
      "0.719187675070028\n",
      "0.6351540616246498\n",
      "0.7086834733893557\n",
      "0.6919267707082833\n"
     ]
    },
    {
     "data": {
      "image/png": "[encoded data removed]",
      "text/plain": [
       "<Figure size 864x576 with 1 Axes>"
      ]
     },
     "metadata": {
      "needs_background": "light"
     },
     "output_type": "display_data"
    }
   ],
   "source": [
    "print(roc_auc_score(data['true'], data['score_logreg']))\n",
    "fpr1, tpr1, thresholds1 = roc_curve(data['true'], data['score_logreg'])\n",
    "plt.plot(fpr1,tpr1,  label =' logreg (%f)'%roc_auc_score(data['true'], data['score_logreg']))\n",
    "\n",
    "print(roc_auc_score(data['true'], data['score_knn']))\n",
    "fpr2, tpr2, thresholds2 = roc_curve(data['true'], data['score_knn'])\n",
    "plt.plot(fpr2,tpr2,  label =' knn (%f)'%roc_auc_score(data['true'], data['score_knn']))\n",
    "\n",
    "print(roc_auc_score(data['true'], data['score_svm']))\n",
    "fpr3, tpr3, thresholds3 = roc_curve(data['true'], data['score_svm'])\n",
    "plt.plot(fpr3,tpr3,  label =' svm (%f)'%roc_auc_score(data['true'], data['score_svm']))\n",
    "\n",
    "print(roc_auc_score(data['true'], data['score_tree']))\n",
    "fpr4, tpr4, thresholds4 = roc_curve(data['true'], data['score_tree'])\n",
    "plt.plot(fpr4,tpr4,  label =' tree (%f)'%roc_auc_score(data['true'], data['score_tree']))\n",
    "\n",
    "\n",
    "\n",
    "plt.legend()\n",
    "plt.xlabel('FPR')\n",
    "plt.ylabel('TPR')\n",
    "plt.grid(True)\n",
    "plt.title('ROC_Curve')\n",
    "plt.show()"
   ]
  },
  {
   "cell_type": "code",
   "execution_count": 51,
   "metadata": {},
   "outputs": [
    {
     "data": {
      "image/png": "[encoded data removed]",
      "text/plain": [
       "<Figure size 864x576 with 1 Axes>"
      ]
     },
     "metadata": {
      "needs_background": "light"
     },
     "output_type": "display_data"
    }
   ],
   "source": [
    "#print(roc_auc_score(data['true'], data['score_logreg']))\n",
    "pre1, rec1, thresholds1 = precision_recall_curve(data['true'], data['score_logreg'])\n",
    "plt.plot(rec1, pre1,  label =' logreg ')\n",
    "\n",
    "#print(roc_auc_score(data['true'], data['score_knn']))\n",
    "pre2, rec2, thresholds2 = precision_recall_curve(data['true'], data['score_knn'])\n",
    "plt.plot(rec2,pre2,  label =' knn')\n",
    "\n",
    "#print(roc_auc_score(data['true'], data['score_svm']))\n",
    "pre3, rec3, thresholds3 = precision_recall_curve(data['true'], data['score_svm'])\n",
    "plt.plot(rec3,pre3,  label =' svm ')\n",
    "\n",
    "#print(roc_auc_score(data['true'], data['score_tree']))\n",
    "pre4, rec4, thresholds4 = precision_recall_curve(data['true'], data['score_tree'])\n",
    "plt.plot(rec4,pre4,  label =' tree ')\n",
    "\n",
    "\n",
    "\n",
    "plt.legend()\n",
    "plt.xlabel('Recall')\n",
    "plt.ylabel('Precision')\n",
    "plt.grid(True)\n",
    "plt.title('PR_Curve')\n",
    "plt.show()"
   ]
  },
  {
   "cell_type": "code",
   "execution_count": 56,
   "metadata": {},
   "outputs": [],
   "source": [
    "data_pre_rec = {'logreg_prec':pre1, 'logreg_rec':rec1}\n",
    "\n",
    "df_PR = pd.DataFrame(data = data_pre_rec)"
   ]
  },
  {
   "cell_type": "code",
   "execution_count": 61,
   "metadata": {},
   "outputs": [
    {
     "data": {
      "text/plain": [
       "0.6302521008403361"
      ]
     },
     "execution_count": 61,
     "metadata": {},
     "output_type": "execute_result"
    }
   ],
   "source": [
    "#LogisticRegression\n",
    "\n",
    "df_PR[df_PR['logreg_rec'] >= 0.7]['logreg_prec'].max()"
   ]
  },
  {
   "cell_type": "code",
   "execution_count": 62,
   "metadata": {},
   "outputs": [
    {
     "data": {
      "text/plain": [
       "0.6065573770491803"
      ]
     },
     "execution_count": 62,
     "metadata": {},
     "output_type": "execute_result"
    }
   ],
   "source": [
    "#kNN\n",
    "data_pre_rec_knn = {'knn_prec':pre2, 'knn_rec':rec2}\n",
    "\n",
    "df_PR = pd.DataFrame(data = data_pre_rec_knn)\n",
    "\n",
    "df_PR[df_PR['knn_rec'] >= 0.7]['knn_prec'].max()\n"
   ]
  },
  {
   "cell_type": "code",
   "execution_count": 64,
   "metadata": {},
   "outputs": [
    {
     "data": {
      "text/plain": [
       "0.6228070175438597"
      ]
     },
     "execution_count": 64,
     "metadata": {},
     "output_type": "execute_result"
    }
   ],
   "source": [
    "#SVM\n",
    "data_pre_rec_svm = {'svm_prec':pre3, 'svm_rec':rec3}\n",
    "\n",
    "df_PR = pd.DataFrame(data = data_pre_rec_svm)\n",
    "\n",
    "df_PR[df_PR['svm_rec'] >= 0.7]['svm_prec'].max()"
   ]
  },
  {
   "cell_type": "code",
   "execution_count": 66,
   "metadata": {},
   "outputs": [
    {
     "data": {
      "text/plain": [
       "0.65"
      ]
     },
     "execution_count": 66,
     "metadata": {},
     "output_type": "execute_result"
    }
   ],
   "source": [
    "#tree\n",
    "data_pre_rec_tree = {'tree_prec':pre4, 'tree_rec':rec4}\n",
    "\n",
    "df_PR = pd.DataFrame(data = data_pre_rec_tree)\n",
    "\n",
    "round(df_PR[df_PR['tree_rec'] >= 0.7]['tree_prec'].max(),2)"
   ]
  },
  {
   "cell_type": "code",
   "execution_count": null,
   "metadata": {},
   "outputs": [],
   "source": []
  }
 ],
 "metadata": {
  "kernelspec": {
   "display_name": "Python 3",
   "language": "python",
   "name": "python3"
  },
  "language_info": {
   "codemirror_mode": {
    "name": "ipython",
    "version": 3
   },
   "file_extension": ".py",
   "mimetype": "text/x-python",
   "name": "python",
   "nbconvert_exporter": "python",
   "pygments_lexer": "ipython3",
   "version": "3.6.0"
  }
 },
 "nbformat": 4,
 "nbformat_minor": 2
}
