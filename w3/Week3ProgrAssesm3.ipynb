{
 "cells": [
  {
   "cell_type": "code",
   "execution_count": 60,
   "metadata": {},
   "outputs": [],
   "source": [
    "import numpy as np\n",
    "import pandas as pd\n",
    "from sklearn.metrics import roc_auc_score"
   ]
  },
  {
   "cell_type": "code",
   "execution_count": 4,
   "metadata": {},
   "outputs": [],
   "source": [
    "df = pd.read_csv('data-logistic.csv', names = ['taget','Feature1','Feature2'])"
   ]
  },
  {
   "cell_type": "code",
   "execution_count": 5,
   "metadata": {},
   "outputs": [
    {
     "data": {
      "text/html": [
       "<div>\n",
       "<style scoped>\n",
       "    .dataframe tbody tr th:only-of-type {\n",
       "        vertical-align: middle;\n",
       "    }\n",
       "\n",
       "    .dataframe tbody tr th {\n",
       "        vertical-align: top;\n",
       "    }\n",
       "\n",
       "    .dataframe thead th {\n",
       "        text-align: right;\n",
       "    }\n",
       "</style>\n",
       "<table border=\"1\" class=\"dataframe\">\n",
       "  <thead>\n",
       "    <tr style=\"text-align: right;\">\n",
       "      <th></th>\n",
       "      <th>taget</th>\n",
       "      <th>Feature1</th>\n",
       "      <th>Feature2</th>\n",
       "    </tr>\n",
       "  </thead>\n",
       "  <tbody>\n",
       "    <tr>\n",
       "      <th>0</th>\n",
       "      <td>-1</td>\n",
       "      <td>-0.663827</td>\n",
       "      <td>-0.138526</td>\n",
       "    </tr>\n",
       "    <tr>\n",
       "      <th>1</th>\n",
       "      <td>1</td>\n",
       "      <td>1.994596</td>\n",
       "      <td>2.468025</td>\n",
       "    </tr>\n",
       "    <tr>\n",
       "      <th>2</th>\n",
       "      <td>-1</td>\n",
       "      <td>-1.247395</td>\n",
       "      <td>0.749425</td>\n",
       "    </tr>\n",
       "    <tr>\n",
       "      <th>3</th>\n",
       "      <td>1</td>\n",
       "      <td>2.309374</td>\n",
       "      <td>1.899836</td>\n",
       "    </tr>\n",
       "    <tr>\n",
       "      <th>4</th>\n",
       "      <td>1</td>\n",
       "      <td>0.849143</td>\n",
       "      <td>2.407750</td>\n",
       "    </tr>\n",
       "  </tbody>\n",
       "</table>\n",
       "</div>"
      ],
      "text/plain": [
       "   taget  Feature1  Feature2\n",
       "0     -1 -0.663827 -0.138526\n",
       "1      1  1.994596  2.468025\n",
       "2     -1 -1.247395  0.749425\n",
       "3      1  2.309374  1.899836\n",
       "4      1  0.849143  2.407750"
      ]
     },
     "execution_count": 5,
     "metadata": {},
     "output_type": "execute_result"
    }
   ],
   "source": [
    "df.head()"
   ]
  },
  {
   "cell_type": "code",
   "execution_count": 7,
   "metadata": {},
   "outputs": [],
   "source": [
    "y = df['taget']\n",
    "X = df[['Feature1','Feature2']]"
   ]
  },
  {
   "cell_type": "code",
   "execution_count": 85,
   "metadata": {},
   "outputs": [],
   "source": [
    "## Logistic Regressor with L2 \n",
    "w = np.array([0,0])\n",
    "k = 0.1\n",
    "C = 10\n",
    "X1 = np.array(X['Feature1'])\n",
    "X2 = np.array(X['Feature2'])"
   ]
  },
  {
   "cell_type": "code",
   "execution_count": 86,
   "metadata": {},
   "outputs": [
    {
     "name": "stdout",
     "output_type": "stream",
     "text": [
      "0 iter\n",
      "Last weigths:  0 0\n",
      "Current sums:  73.24909611741923 66.54294112069681\n",
      "New weights:  0.03573126639874109 0.03245997127838869\n",
      "1 iter\n",
      "Last weigths:  0.03573126639874109 0.03245997127838869\n",
      "Current sums:  54.73317118679414 46.644697808070156\n",
      "New weights:  0.026699107895997144 0.022753511125887887\n",
      "2 iter\n",
      "Last weigths:  0.026699107895997144 0.022753511125887887\n",
      "Current sums:  59.56764756180488 51.91919065768343\n",
      "New weights:  0.029057389054538967 0.02532643446716265\n",
      "3 iter\n",
      "Last weigths:  0.029057389054538967 0.02532643446716265\n",
      "Current sums:  58.2744610721217 50.5024206604834\n",
      "New weights:  0.028426566376644737 0.02463532715145532\n",
      "4 iter\n",
      "Last weigths:  0.028426566376644737 0.02463532715145532\n",
      "Current sums:  58.61961967557427 50.8805524475177\n",
      "New weights:  0.028594936427109405 0.024819781681715954\n",
      "5 iter\n",
      "Last weigths:  0.028594936427109405 0.024819781681715954\n",
      "Current sums:  58.52739088353815 50.779498105497844\n",
      "New weights:  0.02854994677245764 0.024770486880730656\n",
      "6 iter\n",
      "Last weigths:  0.02854994677245764 0.024770486880730656\n",
      "Current sums:  58.55202930987594 50.806493644629725\n",
      "New weights:  0.028561965517012657 0.024783655436404747\n",
      "7 iter\n",
      "Last weigths:  0.028561965517012657 0.024783655436404747\n",
      "Current sums:  58.54544681978015 50.799281361957895\n",
      "New weights:  0.028558754546234223 0.02478013724973556\n",
      "On 7 iter-ts minimum achieved\n",
      "Final weights:  0.028558754546234223 0.02478013724973556\n",
      "ROC_AUC is equal to:  0.9362857142857142\n"
     ]
    }
   ],
   "source": [
    "w1 = 0\n",
    "w2 = 0\n",
    "for j in range(0,10000):\n",
    "    print('%d iter'%j)\n",
    "    sum1 = 0\n",
    "    sum2 = 0\n",
    "    last_w1 = w1\n",
    "    last_w2 = w2\n",
    "    print('Last weigths: ',last_w1, last_w2)\n",
    "    for i in range(0,len(y)):\n",
    "        sum1 = sum1 + y[i]*X1[i]*(1 - 1/(1 + np.exp(-y[i]*(last_w1*X1[i] + last_w2*X2[i]))))\n",
    "        sum2 = sum2 + y[i]*X2[i]*(1 - 1/(1 + np.exp(-y[i]*(last_w1*X1[i] + last_w2*X2[i]))))\n",
    "        \n",
    "    print('Current sums: ',sum1,sum2)\n",
    "    #weight update\n",
    "    w1 = last_w1 + k/len(y)*sum1 - k*C*last_w1\n",
    "    w2 = last_w2 + k/len(y)*sum2 - k*C*last_w2\n",
    "    print('New weights: ',w1, w2)\n",
    "    \n",
    "    #check out\n",
    "    if np.sqrt((w1 - last_w1)**2 + (w2 - last_w2)**2) < 1e-5:\n",
    "        print('On %d iter-ts minimum achieved'%j)\n",
    "        break\n",
    "        \n",
    "print('Final weights: ',w1, w2)\n",
    "a_x = 1/(1 + np.exp(-w1*X1 - w2*X2))\n",
    "\n",
    "print ('ROC_AUC is equal to: ', roc_auc_score(np.array(y), a_x))"
   ]
  },
  {
   "cell_type": "code",
   "execution_count": 84,
   "metadata": {},
   "outputs": [
    {
     "data": {
      "text/plain": [
       "0.927"
      ]
     },
     "execution_count": 84,
     "metadata": {},
     "output_type": "execute_result"
    }
   ],
   "source": [
    "w_o_L2 = round(roc_auc_score(np.array(y), a_x),3)\n",
    "w_o_L2\n"
   ]
  },
  {
   "cell_type": "code",
   "execution_count": 87,
   "metadata": {},
   "outputs": [
    {
     "data": {
      "text/plain": [
       "0.936"
      ]
     },
     "execution_count": 87,
     "metadata": {},
     "output_type": "execute_result"
    }
   ],
   "source": [
    "w_L2 = round(roc_auc_score(np.array(y), a_x),3)\n",
    "w_L2"
   ]
  },
  {
   "cell_type": "code",
   "execution_count": 61,
   "metadata": {},
   "outputs": [
    {
     "data": {
      "text/plain": [
       "0.9362857142857142"
      ]
     },
     "execution_count": 61,
     "metadata": {},
     "output_type": "execute_result"
    }
   ],
   "source": [
    "a_x = 1/(1 + np.exp(-w1*X1 - w2*X2))\n",
    "\n",
    "\n",
    "roc_auc_score(np.array(y), a_x)"
   ]
  },
  {
   "cell_type": "code",
   "execution_count": 29,
   "metadata": {},
   "outputs": [],
   "source": [
    "last_w1 = 0\n",
    "last_w2 = 0\n",
    "sum1 = 0\n",
    "sum2 = 0\n",
    "\n",
    "for i in range(0,len(y)):\n",
    "        sum1 = sum1 + y[i]*X1[i]*(1 - 1/(1 + np.exp(-y[i]*(last_w1*X1[i] + last_w2*X2[i]))))\n",
    "        sum2 = sum2 + y[i]*X2[i]*(1 - 1/(1 + np.exp(-y[i]*(last_w1*X1[i] + last_w2*X2[i]))))"
   ]
  },
  {
   "cell_type": "code",
   "execution_count": 34,
   "metadata": {},
   "outputs": [],
   "source": [
    "a = k/len(y)*sum1 \n",
    "b =  k/len(y)*sum2"
   ]
  },
  {
   "cell_type": "code",
   "execution_count": 36,
   "metadata": {},
   "outputs": [
    {
     "data": {
      "text/plain": [
       "False"
      ]
     },
     "execution_count": 36,
     "metadata": {},
     "output_type": "execute_result"
    }
   ],
   "source": [
    "np.sqrt(a**2 + b**2) < 1e-5"
   ]
  },
  {
   "cell_type": "code",
   "execution_count": 41,
   "metadata": {},
   "outputs": [],
   "source": [
    "import copy\n",
    "a = 1\n",
    "b = copy.copy(a)"
   ]
  },
  {
   "cell_type": "code",
   "execution_count": 42,
   "metadata": {},
   "outputs": [
    {
     "data": {
      "text/plain": [
       "1"
      ]
     },
     "execution_count": 42,
     "metadata": {},
     "output_type": "execute_result"
    }
   ],
   "source": [
    "b"
   ]
  },
  {
   "cell_type": "code",
   "execution_count": 43,
   "metadata": {},
   "outputs": [],
   "source": [
    "c = 1\n",
    "d = c"
   ]
  },
  {
   "cell_type": "code",
   "execution_count": 44,
   "metadata": {},
   "outputs": [],
   "source": [
    "c = 2"
   ]
  },
  {
   "cell_type": "code",
   "execution_count": 46,
   "metadata": {},
   "outputs": [],
   "source": [
    "a = np.array([1,2])"
   ]
  },
  {
   "cell_type": "code",
   "execution_count": 47,
   "metadata": {},
   "outputs": [
    {
     "data": {
      "text/plain": [
       "(1, 2)"
      ]
     },
     "execution_count": 47,
     "metadata": {},
     "output_type": "execute_result"
    }
   ],
   "source": [
    "item1 = a[0]\n",
    "item2 = a[1]\n",
    "\n",
    "a[0] = 3\n",
    "a[1] = 4\n",
    "item1,item2"
   ]
  },
  {
   "cell_type": "code",
   "execution_count": null,
   "metadata": {},
   "outputs": [],
   "source": []
  }
 ],
 "metadata": {
  "kernelspec": {
   "display_name": "Python 3",
   "language": "python",
   "name": "python3"
  },
  "language_info": {
   "codemirror_mode": {
    "name": "ipython",
    "version": 3
   },
   "file_extension": ".py",
   "mimetype": "text/x-python",
   "name": "python",
   "nbconvert_exporter": "python",
   "pygments_lexer": "ipython3",
   "version": "3.6.0"
  }
 },
 "nbformat": 4,
 "nbformat_minor": 2
}
